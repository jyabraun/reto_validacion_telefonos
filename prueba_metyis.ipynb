{
 "cells": [
  {
   "cell_type": "code",
   "execution_count": 3,
   "id": "4ed062ea",
   "metadata": {},
   "outputs": [],
   "source": [
    "import re"
   ]
  },
  {
   "cell_type": "code",
   "execution_count": 101,
   "id": "63c0e8fa",
   "metadata": {},
   "outputs": [],
   "source": [
    "telefono = [\"972-35-56-57\",\"(972)355-567\",\"972-355-567\",\"972 355 567\",\"972355567\",\"34 972 355 567\", \n",
    "            \"34 (972)355-567\",\"5555555\",\"123cwerwcercrr\",\"-34 972-35-36-57\"]"
   ]
  },
  {
   "cell_type": "code",
   "execution_count": 102,
   "id": "cf385273",
   "metadata": {},
   "outputs": [],
   "source": [
    "result=[]\n",
    "for numero in telefono:\n",
    "    if re.search(\"(^9[0-9]{8}$)|(^9[0-9]{2}([-]{1}[0-9]{2}){3}$)|(^\\({1}9{1}[0-9]{2}\\){1}[0-9]{3}-{1}[0-9]{3}$)|(^9{1}[0-9]{2}(-{1}[0-9]{3}){2}$)|(^9{1}[0-9]{2}(\\s{1}[0-9]{3}){2}$)|(^34{1}\\s{1}9{1}[0-9]{2}(\\s{1}[0-9]{3}){2}$)\",numero):\n",
    "        result.append([numero,True])\n",
    "    else:\n",
    "        result.append([numero,False])"
   ]
  },
  {
   "cell_type": "code",
   "execution_count": 103,
   "id": "8c14732c",
   "metadata": {},
   "outputs": [
    {
     "data": {
      "text/plain": [
       "[['972-35-56-57', True],\n",
       " ['(972)355-567', True],\n",
       " ['972-355-567', True],\n",
       " ['972 355 567', True],\n",
       " ['972355567', True],\n",
       " ['34 972 355 567', True],\n",
       " ['34 (972)355-567', False],\n",
       " ['5555555', False],\n",
       " ['123cwerwcercrr', False],\n",
       " ['-34 972-35-36-57', False]]"
      ]
     },
     "execution_count": 103,
     "metadata": {},
     "output_type": "execute_result"
    }
   ],
   "source": [
    "result"
   ]
  },
  {
   "cell_type": "code",
   "execution_count": null,
   "id": "2dce5f76",
   "metadata": {},
   "outputs": [],
   "source": []
  }
 ],
 "metadata": {
  "kernelspec": {
   "display_name": "Python 3",
   "language": "python",
   "name": "python3"
  },
  "language_info": {
   "codemirror_mode": {
    "name": "ipython",
    "version": 3
   },
   "file_extension": ".py",
   "mimetype": "text/x-python",
   "name": "python",
   "nbconvert_exporter": "python",
   "pygments_lexer": "ipython3",
   "version": "3.8.8"
  }
 },
 "nbformat": 4,
 "nbformat_minor": 5
}
